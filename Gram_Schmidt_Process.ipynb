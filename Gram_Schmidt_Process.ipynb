{
  "nbformat": 4,
  "nbformat_minor": 0,
  "metadata": {
    "colab": {
      "name": "Gram-Schmidt Process.ipynb",
      "provenance": [],
      "authorship_tag": "ABX9TyPBNXtVpMb1V8HKLIlEkL1p",
      "include_colab_link": true
    },
    "kernelspec": {
      "name": "python3",
      "display_name": "Python 3"
    },
    "language_info": {
      "name": "python"
    }
  },
  "cells": [
    {
      "cell_type": "markdown",
      "metadata": {
        "id": "view-in-github",
        "colab_type": "text"
      },
      "source": [
        "<a href=\"https://colab.research.google.com/github/mirandavanruler/Linear_Algebra_Coding_Projects/blob/main/Gram_Schmidt_Process.ipynb\" target=\"_parent\"><img src=\"https://colab.research.google.com/assets/colab-badge.svg\" alt=\"Open In Colab\"/></a>"
      ]
    },
    {
      "cell_type": "code",
      "execution_count": 22,
      "metadata": {
        "id": "BxUHYJ0ZPwVM"
      },
      "outputs": [],
      "source": [
        "import numpy as np\n",
        "from numpy import c_"
      ]
    },
    {
      "cell_type": "code",
      "source": [
        "# write vectors:\n",
        "r1 = np.array([3, 6, 0])\n",
        "r1\n",
        "# dot product of r1 with itself:\n",
        "r1.dot(r1)"
      ],
      "metadata": {
        "colab": {
          "base_uri": "https://localhost:8080/"
        },
        "id": "PPKT_EtuQKEb",
        "outputId": "7f0dd030-e35e-40ff-cf8d-da9cfafcc145"
      },
      "execution_count": 23,
      "outputs": [
        {
          "output_type": "execute_result",
          "data": {
            "text/plain": [
              "45"
            ]
          },
          "metadata": {},
          "execution_count": 23
        }
      ]
    },
    {
      "cell_type": "code",
      "source": [
        "np.sqrt(45)"
      ],
      "metadata": {
        "colab": {
          "base_uri": "https://localhost:8080/"
        },
        "id": "wTKzvrD7QeKX",
        "outputId": "e25744f0-d8a3-41a8-ec4f-a4a8f70eb88d"
      },
      "execution_count": null,
      "outputs": [
        {
          "output_type": "execute_result",
          "data": {
            "text/plain": [
              "6.708203932499369"
            ]
          },
          "metadata": {},
          "execution_count": 10
        }
      ]
    },
    {
      "cell_type": "code",
      "source": [
        "print(\"this is the square root of 45:\", np.sqrt(45))"
      ],
      "metadata": {
        "colab": {
          "base_uri": "https://localhost:8080/"
        },
        "id": "L4vh30UKSWic",
        "outputId": "ada970c6-7239-4e34-a6c7-0d897fcb3c11"
      },
      "execution_count": null,
      "outputs": [
        {
          "output_type": "stream",
          "name": "stdout",
          "text": [
            "this is the square root of 45: 6.708203932499369\n"
          ]
        }
      ]
    },
    {
      "cell_type": "code",
      "source": [
        "# Gram-Schmidt process using the first vector [3, 6, 0]\n",
        "r1 = np.array([3, 6, 0])\n",
        "print(\"Our first messy vector is \", r1)\n",
        "# Temporary vector T1\n",
        "T1 = r1\n",
        "print(\"Our T1 vector is \", r1)\n",
        "# Find the magnitude of T1\n",
        "n1 = np.sqrt(T1.dot(T1))\n",
        "print(\"The size of T1 is |T1| =\", n1)\n",
        "# renormalize, and create u1:\n",
        "u1 = (1/n1) * T1\n",
        "print(\"u1 = \", u1)"
      ],
      "metadata": {
        "colab": {
          "base_uri": "https://localhost:8080/"
        },
        "id": "b1CEgHedSp0U",
        "outputId": "56e41aa0-2b75-483b-fc86-99dc662a8ce7"
      },
      "execution_count": 24,
      "outputs": [
        {
          "output_type": "stream",
          "name": "stdout",
          "text": [
            "Our first messy vector is  [3 6 0]\n",
            "Our T1 vector is  [3 6 0]\n",
            "The size of T1 is |T1| = 6.708203932499369\n",
            "u1 =  [0.4472136  0.89442719 0.        ]\n"
          ]
        }
      ]
    },
    {
      "cell_type": "code",
      "source": [
        "# Gram-Schmidt process using the second vector [6, 2, 0]\n",
        "r2 = np.array([6, 2, 0])\n",
        "print(\"Our second messy vector is \", r2)\n",
        "# Temporary vector T2\n",
        "T2 = r2 - (r2.dot(u1))*u1\n",
        "print(\"Our T2 vector is \", T2)\n",
        "# Find the magnitude of T2\n",
        "n2 = np.sqrt(T2.dot(T2))\n",
        "print(\"The size of T2 is |T2| =\", n2)\n",
        "# renormalize, and create u2:\n",
        "u2 = (1/n2) * T2\n",
        "print(\"u2 = \", u2)"
      ],
      "metadata": {
        "colab": {
          "base_uri": "https://localhost:8080/"
        },
        "id": "SY2RuYRTTOk9",
        "outputId": "1c9a64f4-a55a-4ada-e910-0a5d23c88422"
      },
      "execution_count": 25,
      "outputs": [
        {
          "output_type": "stream",
          "name": "stdout",
          "text": [
            "Our second messy vector is  [6 2 0]\n",
            "Our T2 vector is  [ 4. -2.  0.]\n",
            "The size of T2 is |T2| = 4.47213595499958\n",
            "u2 =  [ 0.89442719 -0.4472136   0.        ]\n"
          ]
        }
      ]
    },
    {
      "cell_type": "code",
      "source": [
        "# Gram-Schmidt process using the third vector [(-4), 2, 0]\n",
        "r3 = np.array([(-4), 2, 0])\n",
        "print(\"Our third messy vector is \", r3)\n",
        "# Temporary vector T3\n",
        "T3 = r3 - (r3.dot(u1))*u1 - (r3.dot(u2))*u2\n",
        "print(\"Our T3 vector is \", T3)\n",
        "# Find the magnitude of T3\n",
        "n3 = np.sqrt(T3.dot(T3))\n",
        "print(\"The size of T3 is |T3| =\", n3)\n",
        "## renormalize, and create u3:\n",
        "#u3 = (1/n3) * T3\n",
        "#print(\"u3 = \", u3)"
      ],
      "metadata": {
        "id": "PJd4IrWJWdHQ",
        "colab": {
          "base_uri": "https://localhost:8080/"
        },
        "outputId": "cdbe0bbf-48c5-435c-d707-1b68c16fecce"
      },
      "execution_count": 30,
      "outputs": [
        {
          "output_type": "stream",
          "name": "stdout",
          "text": [
            "Our third messy vector is  [-4  2  0]\n",
            "Our T3 vector is  [-4.4408921e-16 -8.8817842e-16  0.0000000e+00]\n",
            "The size of T3 is |T3| = 9.930136612989092e-16\n"
          ]
        }
      ]
    },
    {
      "cell_type": "code",
      "source": [
        "# Gram-Schmidt process using the fourth vector [3, (-4), 3]\n",
        "r4 = np.array([3, (-4), 3])\n",
        "print(\"Our fourth messy vector is \", r4)\n",
        "# Temporary vector T4\n",
        "T4 = r4 - (r4.dot(u1))*u1 - (r4.dot(u2))*u2\n",
        "print(\"Our T4 vector is \", T4)\n",
        "# Find the magnitude of T4\n",
        "n4 = np.sqrt(T4.dot(T4))\n",
        "print(\"The size of T4 is |T4| =\", n4)\n",
        "# renormalize, and create u3:\n",
        "u3 = (1/n4) * T4\n",
        "print(\"u3 = \", u3)"
      ],
      "metadata": {
        "colab": {
          "base_uri": "https://localhost:8080/"
        },
        "id": "kOKeZ7_rYXxb",
        "outputId": "3ee0f9d0-f189-47de-9a23-73ea50fc223a"
      },
      "execution_count": 33,
      "outputs": [
        {
          "output_type": "stream",
          "name": "stdout",
          "text": [
            "Our fourth messy vector is  [ 3 -4  3]\n",
            "Our T4 vector is  [4.44089210e-16 1.33226763e-15 3.00000000e+00]\n",
            "The size of T4 is |T4| = 3.0\n",
            "u3 =  [1.48029737e-16 4.44089210e-16 1.00000000e+00]\n"
          ]
        }
      ]
    },
    {
      "cell_type": "code",
      "source": [
        ""
      ],
      "metadata": {
        "id": "pkLTV5GMZOby"
      },
      "execution_count": null,
      "outputs": []
    }
  ]
}